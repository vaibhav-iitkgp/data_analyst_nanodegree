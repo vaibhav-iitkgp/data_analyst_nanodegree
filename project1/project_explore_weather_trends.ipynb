{
 "cells": [
  {
   "cell_type": "markdown",
   "metadata": {},
   "source": [
    "# Project: Explore weather trends"
   ]
  },
  {
   "cell_type": "markdown",
   "metadata": {},
   "source": [
    "## Data preparation"
   ]
  },
  {
   "cell_type": "markdown",
   "metadata": {},
   "source": [
    "Sacramento (in United States) is the closest city to Folsom where I live. The following SQL query was used to get average temperature for the world and Sacramento from the database:\n",
    "\n",
    "SELECT city_data.year, city_data.avg_temp AS sacramento_avg_temp, global_data.avg_temp AS global_avg_temp   \n",
    "FROM city_data   \n",
    "JOIN global_data   \n",
    "ON city_data.year = global_data.year  \n",
    "WHERE country='United States' AND city='Sacramento'  \n",
    "ORDER BY year\n",
    "\n",
    "The output of the above query was downloaded as a CSV file and opened in Microsoft Excel. The steps used in the moving averages exercise in the project section were used to add two new columns with a ten year moving average for global and Sacramento temperatures."
   ]
  },
  {
   "cell_type": "markdown",
   "metadata": {},
   "source": [
    "## Data visualization"
   ]
  },
  {
   "cell_type": "markdown",
   "metadata": {},
   "source": [
    "We load the data from the CSV file using the pandas library in Python using the code below."
   ]
  },
  {
   "cell_type": "code",
   "execution_count": 46,
   "metadata": {},
   "outputs": [
    {
     "data": {
      "text/html": [
       "<div>\n",
       "<style scoped>\n",
       "    .dataframe tbody tr th:only-of-type {\n",
       "        vertical-align: middle;\n",
       "    }\n",
       "\n",
       "    .dataframe tbody tr th {\n",
       "        vertical-align: top;\n",
       "    }\n",
       "\n",
       "    .dataframe thead th {\n",
       "        text-align: right;\n",
       "    }\n",
       "</style>\n",
       "<table border=\"1\" class=\"dataframe\">\n",
       "  <thead>\n",
       "    <tr style=\"text-align: right;\">\n",
       "      <th></th>\n",
       "      <th>year</th>\n",
       "      <th>sacramento_avg_temp</th>\n",
       "      <th>global_avg_temp</th>\n",
       "      <th>sacramento_10_year_MA</th>\n",
       "      <th>global_10_year_MA</th>\n",
       "    </tr>\n",
       "  </thead>\n",
       "  <tbody>\n",
       "    <tr>\n",
       "      <th>0</th>\n",
       "      <td>1849</td>\n",
       "      <td>14.12</td>\n",
       "      <td>7.98</td>\n",
       "      <td>NaN</td>\n",
       "      <td>NaN</td>\n",
       "    </tr>\n",
       "    <tr>\n",
       "      <th>1</th>\n",
       "      <td>1850</td>\n",
       "      <td>13.80</td>\n",
       "      <td>7.90</td>\n",
       "      <td>NaN</td>\n",
       "      <td>NaN</td>\n",
       "    </tr>\n",
       "    <tr>\n",
       "      <th>2</th>\n",
       "      <td>1851</td>\n",
       "      <td>14.39</td>\n",
       "      <td>8.18</td>\n",
       "      <td>NaN</td>\n",
       "      <td>NaN</td>\n",
       "    </tr>\n",
       "    <tr>\n",
       "      <th>3</th>\n",
       "      <td>1852</td>\n",
       "      <td>13.81</td>\n",
       "      <td>8.10</td>\n",
       "      <td>NaN</td>\n",
       "      <td>NaN</td>\n",
       "    </tr>\n",
       "    <tr>\n",
       "      <th>4</th>\n",
       "      <td>1853</td>\n",
       "      <td>14.40</td>\n",
       "      <td>8.04</td>\n",
       "      <td>NaN</td>\n",
       "      <td>NaN</td>\n",
       "    </tr>\n",
       "  </tbody>\n",
       "</table>\n",
       "</div>"
      ],
      "text/plain": [
       "   year  sacramento_avg_temp  global_avg_temp  sacramento_10_year_MA  \\\n",
       "0  1849                14.12             7.98                    NaN   \n",
       "1  1850                13.80             7.90                    NaN   \n",
       "2  1851                14.39             8.18                    NaN   \n",
       "3  1852                13.81             8.10                    NaN   \n",
       "4  1853                14.40             8.04                    NaN   \n",
       "\n",
       "   global_10_year_MA  \n",
       "0                NaN  \n",
       "1                NaN  \n",
       "2                NaN  \n",
       "3                NaN  \n",
       "4                NaN  "
      ]
     },
     "execution_count": 46,
     "metadata": {},
     "output_type": "execute_result"
    }
   ],
   "source": [
    "import pandas as pd\n",
    "\n",
    "avg_temp_df = pd.read_csv('avg_temp_data.csv')\n",
    "avg_temp_df.head()"
   ]
  },
  {
   "cell_type": "markdown",
   "metadata": {},
   "source": [
    "Since moving average values start from year 1858 we drop the rows above it in the DataFrame."
   ]
  },
  {
   "cell_type": "code",
   "execution_count": 2,
   "metadata": {},
   "outputs": [
    {
     "data": {
      "text/html": [
       "<div>\n",
       "<style scoped>\n",
       "    .dataframe tbody tr th:only-of-type {\n",
       "        vertical-align: middle;\n",
       "    }\n",
       "\n",
       "    .dataframe tbody tr th {\n",
       "        vertical-align: top;\n",
       "    }\n",
       "\n",
       "    .dataframe thead th {\n",
       "        text-align: right;\n",
       "    }\n",
       "</style>\n",
       "<table border=\"1\" class=\"dataframe\">\n",
       "  <thead>\n",
       "    <tr style=\"text-align: right;\">\n",
       "      <th></th>\n",
       "      <th>year</th>\n",
       "      <th>sacramento_avg_temp</th>\n",
       "      <th>global_avg_temp</th>\n",
       "      <th>sacramento_10_year_MA</th>\n",
       "      <th>global_10_year_MA</th>\n",
       "    </tr>\n",
       "  </thead>\n",
       "  <tbody>\n",
       "    <tr>\n",
       "      <th>9</th>\n",
       "      <td>1858</td>\n",
       "      <td>14.19</td>\n",
       "      <td>8.10</td>\n",
       "      <td>14.177</td>\n",
       "      <td>8.038</td>\n",
       "    </tr>\n",
       "    <tr>\n",
       "      <th>10</th>\n",
       "      <td>1859</td>\n",
       "      <td>13.71</td>\n",
       "      <td>8.25</td>\n",
       "      <td>14.136</td>\n",
       "      <td>8.065</td>\n",
       "    </tr>\n",
       "    <tr>\n",
       "      <th>11</th>\n",
       "      <td>1860</td>\n",
       "      <td>13.81</td>\n",
       "      <td>7.96</td>\n",
       "      <td>14.137</td>\n",
       "      <td>8.071</td>\n",
       "    </tr>\n",
       "    <tr>\n",
       "      <th>12</th>\n",
       "      <td>1861</td>\n",
       "      <td>14.88</td>\n",
       "      <td>7.85</td>\n",
       "      <td>14.186</td>\n",
       "      <td>8.038</td>\n",
       "    </tr>\n",
       "    <tr>\n",
       "      <th>13</th>\n",
       "      <td>1862</td>\n",
       "      <td>14.43</td>\n",
       "      <td>7.56</td>\n",
       "      <td>14.248</td>\n",
       "      <td>7.984</td>\n",
       "    </tr>\n",
       "  </tbody>\n",
       "</table>\n",
       "</div>"
      ],
      "text/plain": [
       "    year  sacramento_avg_temp  global_avg_temp  sacramento_10_year_MA  \\\n",
       "9   1858                14.19             8.10                 14.177   \n",
       "10  1859                13.71             8.25                 14.136   \n",
       "11  1860                13.81             7.96                 14.137   \n",
       "12  1861                14.88             7.85                 14.186   \n",
       "13  1862                14.43             7.56                 14.248   \n",
       "\n",
       "    global_10_year_MA  \n",
       "9               8.038  \n",
       "10              8.065  \n",
       "11              8.071  \n",
       "12              8.038  \n",
       "13              7.984  "
      ]
     },
     "execution_count": 2,
     "metadata": {},
     "output_type": "execute_result"
    }
   ],
   "source": [
    "avg_temp_df=avg_temp_df.drop(range(0,9))\n",
    "avg_temp_df.head()"
   ]
  },
  {
   "cell_type": "markdown",
   "metadata": {},
   "source": [
    "We plot the average temperatures over time for Sacramento and the world using the code below."
   ]
  },
  {
   "cell_type": "code",
   "execution_count": 3,
   "metadata": {},
   "outputs": [],
   "source": [
    "%matplotlib inline\n",
    "import matplotlib.pyplot as plt"
   ]
  },
  {
   "cell_type": "code",
   "execution_count": 4,
   "metadata": {},
   "outputs": [
    {
     "data": {
      "text/plain": [
       "<matplotlib.axes._subplots.AxesSubplot at 0x1f33c91bac8>"
      ]
     },
     "execution_count": 4,
     "metadata": {},
     "output_type": "execute_result"
    },
    {
     "data": {
      "image/png": "[encoded data removed]",
      "text/plain": [
       "<Figure size 432x288 with 1 Axes>"
      ]
     },
     "metadata": {},
     "output_type": "display_data"
    }
   ],
   "source": [
    "ax = plt.gca()\n",
    "avg_temp_df.plot(x='year', y='sacramento_10_year_MA', ax=ax, \n",
    "                 title='Average temperature trends for the world and Sacramento')\n",
    "avg_temp_df.plot(x='year', y='global_10_year_MA', color='red', ax=ax)"
   ]
  },
  {
   "cell_type": "markdown",
   "metadata": {},
   "source": [
    "In order to visualize how correlated the global and Sacramento temperatures are, we create a scatter plot using the code below."
   ]
  },
  {
   "cell_type": "code",
   "execution_count": 5,
   "metadata": {},
   "outputs": [
    {
     "data": {
      "image/png": "[encoded data removed]",
      "text/plain": [
       "<Figure size 432x288 with 1 Axes>"
      ]
     },
     "metadata": {},
     "output_type": "display_data"
    }
   ],
   "source": [
    "avg_temp_sac = avg_temp_df['sacramento_10_year_MA']\n",
    "avg_temp_global = avg_temp_df['global_10_year_MA']\n",
    "plt.scatter(avg_temp_global, avg_temp_sac)\n",
    "plt.title('Scatter plot of global and Sacramento average temperatures')\n",
    "plt.xlabel('Global average temperature')\n",
    "plt.ylabel('Sacramento average temperature')\n",
    "plt.show()"
   ]
  },
  {
   "cell_type": "markdown",
   "metadata": {},
   "source": [
    "We use the following function to calculate Pearson's r (correlation coefficient) between global and Sacramento average temperatures."
   ]
  },
  {
   "cell_type": "code",
   "execution_count": 6,
   "metadata": {},
   "outputs": [
    {
     "name": "stdout",
     "output_type": "stream",
     "text": [
      "Pearson's r between global and Sacramento temperatures:  0.8160181708830238\n"
     ]
    }
   ],
   "source": [
    "def correlation(x, y):\n",
    "    \n",
    "    x_standard = (x - x.mean())/x.std(ddof=0)\n",
    "    y_standard = (y - y.mean())/y.std(ddof=0)\n",
    "    prod = x_standard*y_standard\n",
    "    \n",
    "    return prod.mean()\n",
    "\n",
    "print(\"Pearson's r between global and Sacramento temperatures: \", correlation(avg_temp_global, avg_temp_sac))"
   ]
  },
  {
   "cell_type": "markdown",
   "metadata": {},
   "source": [
    "## Data interpretation and insights"
   ]
  },
  {
   "cell_type": "markdown",
   "metadata": {},
   "source": [
    "We can make the following observations based on the graph above:\n",
    "1. Sacramento is hotter compared to the global average temperature. The trend seems to be consistent over time.\n",
    "2. The scatter plot of global and Sacramento average temperatures is shown before. We can see that they follow a non-linear relationship till the global average temperature reaches around 8.4. Beyond that point the relationship is almost linear. \n",
    "3. Pearson's r is calculated in the code above. The r value is close to 1, which means that the overall relationship is almost linear. \n",
    "4. We can clearly see that the global average temperature is rising overall with time. There were drops around the years 1890 and 1955. But there is a steady increase after the year 1980. \n",
    "5. The average temperature for Sacramento follows similar trends as the global average after the year 1930. There are few differences between the two before the year 1930. There was a drop in global average around the year 1890, while the opposite occured for Sacramento."
   ]
  },
  {
   "cell_type": "markdown",
   "metadata": {},
   "source": [
    "### Estimating average temperature in Sacramento"
   ]
  },
  {
   "cell_type": "markdown",
   "metadata": {},
   "source": [
    "Since we found out that the relationship between global and Sacramento average temperatures is almost linear after the global value reaches 8.4, we can try to use linear regression to estimate the average temperature for Sacramento based on global average temperature. We calculate the corresponding values for Sacramento where global value is greater than 8.4 and use Ridge regression (which uses L2 regularization) to see how well our model fits."
   ]
  },
  {
   "cell_type": "code",
   "execution_count": 24,
   "metadata": {},
   "outputs": [
    {
     "name": "stdout",
     "output_type": "stream",
     "text": [
      "Training set score: 0.76\n",
      "Test set score: 0.84\n"
     ]
    }
   ],
   "source": [
    "import numpy as np\n",
    "linear_index = avg_temp_global > 8.4\n",
    "linear_avg_temp_global = np.array(avg_temp_global[linear_index]).reshape(-1,1)\n",
    "linear_avg_temp_sac = np.array(avg_temp_sac[linear_index]).reshape(-1,1)\n",
    "\n",
    "from sklearn.linear_model import Ridge\n",
    "from sklearn.model_selection import train_test_split\n",
    "\n",
    "X_train, X_test, y_train, y_test = train_test_split(linear_avg_temp_global, linear_avg_temp_sac, random_state=42)\n",
    "ridge = Ridge(alpha=0.1).fit(X_train, y_train)\n",
    "print('Training set score: %0.2f' % (ridge.score(X_train, y_train)))\n",
    "print('Test set score: %0.2f' % (ridge.score(X_test, y_test)))"
   ]
  },
  {
   "cell_type": "markdown",
   "metadata": {},
   "source": [
    "We can see that the Ridge regression model has an accuracy of 84% with a regularization parameter alpha=0.1. Since the relationship is not exactly linear, we might be able to get a better fit by using a quadratic or third degree polynomial as shown below."
   ]
  },
  {
   "cell_type": "code",
   "execution_count": 44,
   "metadata": {},
   "outputs": [
    {
     "name": "stdout",
     "output_type": "stream",
     "text": [
      "Training set score: 0.82\n",
      "Test set score: 0.87\n"
     ]
    }
   ],
   "source": [
    "from sklearn.preprocessing import PolynomialFeatures\n",
    "\n",
    "poly = PolynomialFeatures(degree=3)\n",
    "poly_avg_temp_global = poly.fit_transform(linear_avg_temp_global)\n",
    "X_train, X_test, y_train, y_test = train_test_split(poly_avg_temp_global, linear_avg_temp_sac, random_state=42)\n",
    "ridge = Ridge(alpha=0.1).fit(X_train, y_train)\n",
    "print('Training set score: %0.2f' % (ridge.score(X_train, y_train)))\n",
    "print('Test set score: %0.2f' % (ridge.score(X_test, y_test)))"
   ]
  },
  {
   "cell_type": "markdown",
   "metadata": {},
   "source": [
    "The code above uses a cubic polynomial to model the average temperature for Sacramento ($y$) as a function of the global average ($x$). The relationship is $y = \\theta_0 + \\theta_1x +\\theta_2x^2 + \\theta_3x^3$, where $\\theta_0, \\theta_1, \\theta_2$ and $\\theta_3$ are the weights learned by the model. We see that we get slightly better accuracy (87%) compared to the linear model."
   ]
  },
  {
   "cell_type": "markdown",
   "metadata": {},
   "source": [
    "## References"
   ]
  },
  {
   "cell_type": "markdown",
   "metadata": {},
   "source": [
    "- Intro to Data Analysis (free udacity course)\n",
    "- Introduction to Machine Learning with Python, by Andreas C. Muller and Sarah Guido\n",
    "- https://scikit-learn.org/stable/modules/linear_model.html#polynomial-regression-extending-linear-models-with-basis-functions"
   ]
  }
 ],
 "metadata": {
  "kernelspec": {
   "display_name": "Python 3",
   "language": "python",
   "name": "python3"
  },
  "language_info": {
   "codemirror_mode": {
    "name": "ipython",
    "version": 3
   },
   "file_extension": ".py",
   "mimetype": "text/x-python",
   "name": "python",
   "nbconvert_exporter": "python",
   "pygments_lexer": "ipython3",
   "version": "3.6.5"
  }
 },
 "nbformat": 4,
 "nbformat_minor": 2
}
